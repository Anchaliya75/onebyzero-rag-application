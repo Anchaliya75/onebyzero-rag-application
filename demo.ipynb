{
 "cells": [
  {
   "cell_type": "markdown",
   "metadata": {},
   "source": [
    "### Importing necessary libraries"
   ]
  },
  {
   "cell_type": "code",
   "execution_count": 6,
   "metadata": {},
   "outputs": [],
   "source": [
    "import logging\n",
    "import sys\n",
    "from typing import Optional\n",
    "import os.path\n",
    "import openai\n",
    "### remove credential while running this is used to hide API-KEY\n",
    "from credential import API_KEY\n",
    "### put your api-key here\n",
    "openai.api_key = API_KEY\n",
    "\n",
    "from llama_index.core import (\n",
    "    VectorStoreIndex,\n",
    "    SimpleDirectoryReader,\n",
    "    StorageContext,\n",
    "    load_index_from_storage,\n",
    "    ServiceContext,\n",
    "    set_global_service_context,\n",
    " \n",
    "    \n",
    ")\n",
    "from llama_index.llms.openai import OpenAI\n",
    "from llama_index.embeddings.openai import OpenAIEmbedding\n",
    "from llama_index.core import ServiceContext, set_global_service_context,get_response_synthesizer\n",
    "from llmsherpa.readers import LayoutPDFReader\n",
    "from llama_index.core.schema import Document\n"
   ]
  },
  {
   "cell_type": "markdown",
   "metadata": {},
   "source": [
    "### Generate two llm models one for answering and other for follow-up question\n",
    "#### Follow-up question needs creativity so temperature is set to 0.9"
   ]
  },
  {
   "cell_type": "code",
   "execution_count": 3,
   "metadata": {},
   "outputs": [],
   "source": [
    "llm_answer = OpenAI(model=\"gpt-3.5-turbo\", temperature=0)\n",
    "llm_follow_up_question = OpenAI(model=\"gpt-3.5-turbo\", temperature=0.9)\n",
    "embed_model=OpenAIEmbedding()"
   ]
  },
  {
   "cell_type": "markdown",
   "metadata": {},
   "source": [
    "### 2-Service context is created"
   ]
  },
  {
   "cell_type": "code",
   "execution_count": 4,
   "metadata": {},
   "outputs": [
    {
     "name": "stderr",
     "output_type": "stream",
     "text": [
      "/var/folders/bc/k6hr84f57gqbdw0648c3tblw0000gn/T/ipykernel_31857/360715135.py:1: DeprecationWarning: Call to deprecated class method from_defaults. (ServiceContext is deprecated, please use `llama_index.settings.Settings` instead.) -- Deprecated since version 0.10.0.\n",
      "  service_context = ServiceContext.from_defaults(\n",
      "/var/folders/bc/k6hr84f57gqbdw0648c3tblw0000gn/T/ipykernel_31857/360715135.py:6: DeprecationWarning: Call to deprecated class method from_defaults. (ServiceContext is deprecated, please use `llama_index.settings.Settings` instead.) -- Deprecated since version 0.10.0.\n",
      "  service_context_follow_up = ServiceContext.from_defaults(\n"
     ]
    }
   ],
   "source": [
    "service_context = ServiceContext.from_defaults(\n",
    "            chunk_size=256,\n",
    "            llm=llm_answer,\n",
    "            embed_model=embed_model\n",
    ")\n",
    "service_context_follow_up = ServiceContext.from_defaults(\n",
    "            chunk_size=256,\n",
    "            llm=llm_answer,\n",
    "            embed_model=embed_model\n",
    ")\n",
    "set_global_service_context(service_context)"
   ]
  },
  {
   "cell_type": "markdown",
   "metadata": {},
   "source": [
    "### For chunking llmsherpa api is used\n",
    "### It chunk based upo the layout.The main advantage using this you get similar information in a chunk"
   ]
  },
  {
   "cell_type": "code",
   "execution_count": 11,
   "metadata": {},
   "outputs": [],
   "source": [
    "llmsherpa_api_url = \"https://readers.llmsherpa.com/api/document/developer/parseDocument?renderFormat=all\"\n",
    "pdf_url = \"Yash-Anchaliya.pdf\" \n",
    "pdf_reader = LayoutPDFReader(llmsherpa_api_url)\n",
    "doc = pdf_reader.read_pdf(pdf_url)\n"
   ]
  },
  {
   "cell_type": "markdown",
   "metadata": {},
   "source": [
    "### Creating a vector-index"
   ]
  },
  {
   "cell_type": "code",
   "execution_count": null,
   "metadata": {},
   "outputs": [],
   "source": [
    "index = VectorStoreIndex([])\n",
    "for chunk in doc.chunks():\n",
    "    index.insert(Document(text=chunk.to_context_text(), extra_info={}))"
   ]
  },
  {
   "cell_type": "markdown",
   "metadata": {},
   "source": [
    "### Printing chunks which are generated"
   ]
  },
  {
   "cell_type": "code",
   "execution_count": 10,
   "metadata": {},
   "outputs": [
    {
     "name": "stdout",
     "output_type": "stream",
     "text": [
      "\n",
      "YASH ANCHALIYA ACADEMIC PROFILE\n",
      "------------------------------\n",
      "##############################\n",
      "\n",
      " | Degree/Certificate | Institution | Percentage/CGPA | Year\n",
      " | --- | --- | --- | ---\n",
      " | IDD | Bio-Medical Engineering IIT (BHU), Varanasi | 8.30 | 2024\n",
      " | CBSE (XII) | GURU SIDDHARTH INT SCHOOL BEAWAR | 88.200 | 2018\n",
      " | CBSE (X) | ST PAUL'S SR SEC SCHOOL BEAWAR | 91.200 | 2016\n",
      "\n",
      "------------------------------\n",
      "##############################\n",
      "SKILLS\n",
      "Language - C++, Python.\n",
      "Technologies - Numpy, Pandas, OpenCV, Sklearn, Matplotlib, Pytorch, Keras, Tensorflow, Git.\n",
      "Interest - DSA, Machine Learning, Deep Learning, Computer Vision, Generative AI, NLP, Statistics,OOPS.\n",
      "------------------------------\n",
      "##############################\n",
      "INTERNSHIP/TRAINING > May 2023 - July 2023Data Science Intern | Walmart\n",
      "Automated Creative Generation using Generative AI Worked in Generative AI Advertising Tech team to build automated creatives for advertisers using Stable Diffusion.\n",
      "------------------------------\n",
      "##############################\n",
      "INTERNSHIP/TRAINING > May 2023 - July 2023Data Science Intern | Walmart\n",
      "Created whole pipeline for Automated Creative Generation from scratch using Open Source Stable Diffusion API.\n",
      "Assessed Background-Removal Algorithms for single product images with white background from Walmart's catalog.Evaluated heuristic methods ,U2Net,and SOTA segmentation algorithms(Segment-Anything-Model).\n",
      "Tested various hypothesis related to Product extension,placement ,Hyperparameters tuning and Segmentation Exposure: Image Processing | Segmentation | Stable Diffusion | Segment-Anything-Model | Open-CV | Python.\n",
      "------------------------------\n",
      "##############################\n",
      "INTERNSHIP/TRAINING > May 2023 - July 2023Data Science Intern | Walmart\n",
      "15 May 2021 - 15 July 2021Product Management Intern | Frontrow\n",
      "------------------------------\n",
      "##############################\n",
      "INTERNSHIP/TRAINING > May 2023 - July 2023Data Science Intern | Walmart\n",
      "Frontrow : EdTech start-up for non academic courses like Singing ,Gaming ,Music Analyzed conversion funnel data to uncover drop-off and retention rates, and performed Cohort analysis.\n",
      "------------------------------\n",
      "##############################\n",
      "INTERNSHIP/TRAINING > May 2023 - July 2023Data Science Intern | Walmart\n",
      "Boosted Challenge tab conversion by leveraging data analysis through CleverTap and Metabase Collaborated with gaming experts, designers, and the feature team to ensure an exceptional user experience.\n",
      "Exposure : Data Analysis | Product Management | CleverTap | Mixpanel\n",
      "------------------------------\n",
      "##############################\n",
      "PROJECTS > Aug 2022 - Sept 2022Character Level Language Model\n",
      "Built a Character Level Language Model to generate names using Counting and Multi-Layer Perceptron.\n",
      "------------------------------\n",
      "##############################\n",
      "PROJECTS > Aug 2022 - Sept 2022Character Level Language Model\n",
      "Data consist of 32k names.Training data uses the previous 3 characters to predict the next character.\n",
      "------------------------------\n",
      "##############################\n",
      "PROJECTS > Aug 2022 - Sept 2022Character Level Language Model\n",
      "Used MLP Language model on the lines of bengio paper with Negative log-likelihood loss of 2.45.\n",
      "Exposure : Python | Pytorch | Deep Learning.\n",
      "------------------------------\n",
      "##############################\n",
      "PROJECTS > Aug 2022 - Sept 2022Character Level Language Model\n",
      "Nov 2022 - Dec 2022Nanograd\n",
      "------------------------------\n",
      "##############################\n",
      "PROJECTS > Aug 2022 - Sept 2022Character Level Language Model\n",
      "It is an automatic differentiation engine similar to PyTorch Autograd built from scratch in python using OOPS.\n",
      "------------------------------\n",
      "##############################\n",
      "PROJECTS > Aug 2022 - Sept 2022Character Level Language Model\n",
      "Build Multi-layer perceptron from scratch using classes and used Nanograd for backpropagation.\n",
      "Used GraphViz Library to visualize Computational Graphs for Forward and Backward Propagation.\n",
      "Exposure: Python,Deep Learning,OOPS\n",
      "------------------------------\n",
      "##############################\n",
      "PROJECTS > Aug 2022 - Sept 2022Character Level Language Model\n",
      "May 2022 -June 2022Survival Analysis of Pancreatic-Cancer\n",
      "------------------------------\n",
      "##############################\n",
      "PROJECTS > Aug 2022 - Sept 2022Character Level Language Model\n",
      "Data has been collected from the research paper Computational Modeling of Pancreatic Cancer.\n",
      "Data consists of 101 patients with info regarding cancer progression from diagnosis till death.\n",
      "Utilized Kaplan-Meier Curves to predict 5-year survival in pancreatic cancer patients and identified a significant correlation between tumor surgery and extended survival(p < 0.05).\n",
      "Exposure : Python |Survival Analysis |Statistics.\n",
      "------------------------------\n",
      "##############################\n",
      "CERTIFIED COURSES\n",
      "Image Processing (BM-502) AI and its applications in Biomedical Engineering (BM511) Intelligent Computing (CSE 342)\n",
      "------------------------------\n",
      "##############################\n",
      "HONOURS AND ACHIEVEMENTS\n",
      "Selected among top 2% out of 4.5L+ candidates across India in Embark'21 conducted by Upraised.\n",
      "Solved 1000+problems on various online judges like Leetcode and Codeforces.\n",
      "Finalist in Data Science Hackathon Organized by Kharagpur Data Analytics Group IIT Kharagpur.\n",
      "------------------------------\n",
      "##############################\n"
     ]
    }
   ],
   "source": [
    "for chunk in doc.chunks():\n",
    "    print(chunk.to_context_text())\n",
    "    print(\"------------------------------\")\n",
    "    print(\"##############################\")"
   ]
  },
  {
   "cell_type": "markdown",
   "metadata": {},
   "source": [
    "### Generating chat engine for question-answering and query engine for follow-up question"
   ]
  },
  {
   "cell_type": "code",
   "execution_count": 12,
   "metadata": {},
   "outputs": [],
   "source": [
    "chat_engine = index.as_chat_engine()\n",
    "query_engine  = index.as_query_engine(service_context= service_context_follow_up)"
   ]
  },
  {
   "cell_type": "markdown",
   "metadata": {},
   "source": [
    "### generating results based on prompts"
   ]
  },
  {
   "cell_type": "code",
   "execution_count": 15,
   "metadata": {},
   "outputs": [],
   "source": [
    "prompt =\"tell me about yash anchaliya achivements\""
   ]
  },
  {
   "cell_type": "code",
   "execution_count": 13,
   "metadata": {},
   "outputs": [],
   "source": [
    "answer = chat_engine.chat(prompt)"
   ]
  },
  {
   "cell_type": "markdown",
   "metadata": {},
   "source": [
    "## Answer for the prompt"
   ]
  },
  {
   "cell_type": "code",
   "execution_count": 14,
   "metadata": {},
   "outputs": [
    {
     "name": "stdout",
     "output_type": "stream",
     "text": [
      "Yash Anchaliya has achieved the following:\n",
      "1. Selected among the top 2% out of over 4.5 lakh candidates in Embark'21 conducted by Upraised.\n",
      "2. Solved over 1000 problems on platforms like Leetcode and Codeforces.\n",
      "3. Finalist in a Data Science Hackathon organized by Kharagpur Data Analytics Group at IIT Kharagpur.\n"
     ]
    }
   ],
   "source": [
    "print(answer)"
   ]
  },
  {
   "cell_type": "markdown",
   "metadata": {},
   "source": [
    "### Follow-up question using llama-index query engine"
   ]
  },
  {
   "cell_type": "code",
   "execution_count": 16,
   "metadata": {},
   "outputs": [],
   "source": [
    "follow_up_question = query_engine.query(f\"generate followup question based upom {prompt}\")"
   ]
  },
  {
   "cell_type": "markdown",
   "metadata": {},
   "source": [
    "### Follow-up Question"
   ]
  },
  {
   "cell_type": "code",
   "execution_count": 17,
   "metadata": {},
   "outputs": [
    {
     "name": "stdout",
     "output_type": "stream",
     "text": [
      "What kind of competitions or challenges has Yash Anchaliya participated in to showcase their skills and abilities?\n"
     ]
    }
   ],
   "source": [
    "print(follow_up_question)"
   ]
  },
  {
   "cell_type": "code",
   "execution_count": null,
   "metadata": {},
   "outputs": [],
   "source": []
  }
 ],
 "metadata": {
  "kernelspec": {
   "display_name": "adapt",
   "language": "python",
   "name": "python3"
  },
  "language_info": {
   "codemirror_mode": {
    "name": "ipython",
    "version": 3
   },
   "file_extension": ".py",
   "mimetype": "text/x-python",
   "name": "python",
   "nbconvert_exporter": "python",
   "pygments_lexer": "ipython3",
   "version": "3.10.13"
  }
 },
 "nbformat": 4,
 "nbformat_minor": 2
}
